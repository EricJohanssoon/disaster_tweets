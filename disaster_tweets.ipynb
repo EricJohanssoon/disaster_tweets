{
 "cells": [
  {
   "cell_type": "markdown",
   "metadata": {},
   "source": [
    "# Disaster Tweets"
   ]
  },
  {
   "cell_type": "markdown",
   "metadata": {},
   "source": [
    "### Import data"
   ]
  },
  {
   "cell_type": "code",
   "execution_count": 1,
   "metadata": {},
   "outputs": [],
   "source": [
    "# proper imports\n",
    "import pandas as pd\n",
    "import numpy as np\n",
    "import matplotlib.pyplot as plt\n",
    "import seaborn as sns\n",
    "import torch\n",
    "\n",
    "# Ml imports\n",
    "from sklearn.model_selection import train_test_split \n",
    "from sklearn.utils import shuffle \n",
    "from sklearn.metrics import accuracy_score, recall_score, precision_score\n",
    "\n",
    "# HF imports\n",
    "from datasets import Dataset, DatasetDict, load_metric\n",
    "from transformers import AutoTokenizer, DataCollatorWithPadding, AutoModelForSequenceClassification, TrainingArguments, Trainer, set_seed\n",
    "from sentence_transformers import SentenceTransformer, util\n",
    "\n",
    "random_seed = 42"
   ]
  },
  {
   "cell_type": "code",
   "execution_count": 2,
   "metadata": {},
   "outputs": [
    {
     "name": "stdout",
     "output_type": "stream",
     "text": [
      "Columns: Index(['id', 'keyword', 'location', 'text', 'target'], dtype='object')\n",
      "Shape of the dataframe: (7613, 5) \n",
      "\n",
      "0\n",
      "61\n",
      "2533\n",
      "0\n"
     ]
    }
   ],
   "source": [
    "# import train as df\n",
    "df = pd.read_csv('train.csv')\n",
    "df_test = pd.read_csv('test.csv')\n",
    "print('Columns:',df.columns)\n",
    "print('Shape of the dataframe:', df.shape, '\\n')\n",
    "\n",
    "#checking out nan values in text columns\n",
    "print(df['id'].isnull().sum())\n",
    "print(df['keyword'].isnull().sum())\n",
    "print(df['location'].isnull().sum())\n",
    "print(df['text'].isnull().sum())"
   ]
  },
  {
   "cell_type": "code",
   "execution_count": 3,
   "metadata": {},
   "outputs": [
    {
     "data": {
      "text/html": [
       "<div>\n",
       "<style scoped>\n",
       "    .dataframe tbody tr th:only-of-type {\n",
       "        vertical-align: middle;\n",
       "    }\n",
       "\n",
       "    .dataframe tbody tr th {\n",
       "        vertical-align: top;\n",
       "    }\n",
       "\n",
       "    .dataframe thead th {\n",
       "        text-align: right;\n",
       "    }\n",
       "</style>\n",
       "<table border=\"1\" class=\"dataframe\">\n",
       "  <thead>\n",
       "    <tr style=\"text-align: right;\">\n",
       "      <th></th>\n",
       "      <th>id</th>\n",
       "      <th>keyword</th>\n",
       "      <th>location</th>\n",
       "      <th>text</th>\n",
       "      <th>target</th>\n",
       "    </tr>\n",
       "  </thead>\n",
       "  <tbody>\n",
       "    <tr>\n",
       "      <th>31</th>\n",
       "      <td>48</td>\n",
       "      <td>ablaze</td>\n",
       "      <td>Birmingham</td>\n",
       "      <td>@bbcmtd Wholesale Markets ablaze http://t.co/l...</td>\n",
       "      <td>1</td>\n",
       "    </tr>\n",
       "    <tr>\n",
       "      <th>32</th>\n",
       "      <td>49</td>\n",
       "      <td>ablaze</td>\n",
       "      <td>Est. September 2012 - Bristol</td>\n",
       "      <td>We always try to bring the heavy. #metal #RT h...</td>\n",
       "      <td>0</td>\n",
       "    </tr>\n",
       "    <tr>\n",
       "      <th>33</th>\n",
       "      <td>50</td>\n",
       "      <td>ablaze</td>\n",
       "      <td>AFRICA</td>\n",
       "      <td>#AFRICANBAZE: Breaking news:Nigeria flag set a...</td>\n",
       "      <td>1</td>\n",
       "    </tr>\n",
       "    <tr>\n",
       "      <th>34</th>\n",
       "      <td>52</td>\n",
       "      <td>ablaze</td>\n",
       "      <td>Philadelphia, PA</td>\n",
       "      <td>Crying out for more! Set me ablaze</td>\n",
       "      <td>0</td>\n",
       "    </tr>\n",
       "    <tr>\n",
       "      <th>35</th>\n",
       "      <td>53</td>\n",
       "      <td>ablaze</td>\n",
       "      <td>London, UK</td>\n",
       "      <td>On plus side LOOK AT THE SKY LAST NIGHT IT WAS...</td>\n",
       "      <td>0</td>\n",
       "    </tr>\n",
       "    <tr>\n",
       "      <th>...</th>\n",
       "      <td>...</td>\n",
       "      <td>...</td>\n",
       "      <td>...</td>\n",
       "      <td>...</td>\n",
       "      <td>...</td>\n",
       "    </tr>\n",
       "    <tr>\n",
       "      <th>7578</th>\n",
       "      <td>10830</td>\n",
       "      <td>wrecked</td>\n",
       "      <td>NaN</td>\n",
       "      <td>@jt_ruff23 @cameronhacker and I wrecked you both</td>\n",
       "      <td>0</td>\n",
       "    </tr>\n",
       "    <tr>\n",
       "      <th>7579</th>\n",
       "      <td>10831</td>\n",
       "      <td>wrecked</td>\n",
       "      <td>Vancouver, Canada</td>\n",
       "      <td>Three days off from work and they've pretty mu...</td>\n",
       "      <td>0</td>\n",
       "    </tr>\n",
       "    <tr>\n",
       "      <th>7580</th>\n",
       "      <td>10832</td>\n",
       "      <td>wrecked</td>\n",
       "      <td>London</td>\n",
       "      <td>#FX #forex #trading Cramer: Iger's 3 words tha...</td>\n",
       "      <td>0</td>\n",
       "    </tr>\n",
       "    <tr>\n",
       "      <th>7581</th>\n",
       "      <td>10833</td>\n",
       "      <td>wrecked</td>\n",
       "      <td>Lincoln</td>\n",
       "      <td>@engineshed Great atmosphere at the British Li...</td>\n",
       "      <td>0</td>\n",
       "    </tr>\n",
       "    <tr>\n",
       "      <th>7582</th>\n",
       "      <td>10834</td>\n",
       "      <td>wrecked</td>\n",
       "      <td>NaN</td>\n",
       "      <td>Cramer: Iger's 3 words that wrecked Disney's s...</td>\n",
       "      <td>0</td>\n",
       "    </tr>\n",
       "  </tbody>\n",
       "</table>\n",
       "<p>7552 rows × 5 columns</p>\n",
       "</div>"
      ],
      "text/plain": [
       "         id  keyword                       location  \\\n",
       "31       48   ablaze                     Birmingham   \n",
       "32       49   ablaze  Est. September 2012 - Bristol   \n",
       "33       50   ablaze                         AFRICA   \n",
       "34       52   ablaze               Philadelphia, PA   \n",
       "35       53   ablaze                     London, UK   \n",
       "...     ...      ...                            ...   \n",
       "7578  10830  wrecked                            NaN   \n",
       "7579  10831  wrecked              Vancouver, Canada   \n",
       "7580  10832  wrecked                        London    \n",
       "7581  10833  wrecked                        Lincoln   \n",
       "7582  10834  wrecked                            NaN   \n",
       "\n",
       "                                                   text  target  \n",
       "31    @bbcmtd Wholesale Markets ablaze http://t.co/l...       1  \n",
       "32    We always try to bring the heavy. #metal #RT h...       0  \n",
       "33    #AFRICANBAZE: Breaking news:Nigeria flag set a...       1  \n",
       "34                   Crying out for more! Set me ablaze       0  \n",
       "35    On plus side LOOK AT THE SKY LAST NIGHT IT WAS...       0  \n",
       "...                                                 ...     ...  \n",
       "7578   @jt_ruff23 @cameronhacker and I wrecked you both       0  \n",
       "7579  Three days off from work and they've pretty mu...       0  \n",
       "7580  #FX #forex #trading Cramer: Iger's 3 words tha...       0  \n",
       "7581  @engineshed Great atmosphere at the British Li...       0  \n",
       "7582  Cramer: Iger's 3 words that wrecked Disney's s...       0  \n",
       "\n",
       "[7552 rows x 5 columns]"
      ]
     },
     "execution_count": 3,
     "metadata": {},
     "output_type": "execute_result"
    }
   ],
   "source": [
    "# look at rows where keyword is not nan\n",
    "df[df['keyword'].notnull()]"
   ]
  },
  {
   "cell_type": "code",
   "execution_count": 4,
   "metadata": {},
   "outputs": [
    {
     "name": "stdout",
     "output_type": "stream",
     "text": [
      "train: \n",
      " 0    3473\n",
      "1    2617\n",
      "Name: target, dtype: int64 \n",
      "\n",
      "val: \n",
      " 0    869\n",
      "1    654\n",
      "Name: target, dtype: int64\n"
     ]
    }
   ],
   "source": [
    "# shuffle data\n",
    "df = shuffle(df,random_state=random_seed)\n",
    "\n",
    "# split data into train and val\n",
    "df_train, df_val = train_test_split(df, test_size=0.20, stratify=df['target']) \n",
    "\n",
    "# distributions of target\n",
    "print(\"train: \\n\",df_train['target'].value_counts(), \"\\n\")\n",
    "print(\"val: \\n\",df_val['target'].value_counts())\n",
    "\n",
    "#drop columns that are not needed"
   ]
  },
  {
   "cell_type": "code",
   "execution_count": 5,
   "metadata": {},
   "outputs": [],
   "source": [
    "# convert dataframes to HuggingFace dataset dictionary\n",
    "dataset_train = Dataset.from_pandas(df_train)\n",
    "dataset_val = Dataset.from_pandas(df_val)\n",
    "dataset = DatasetDict({\"train\": dataset_train, \"val\": dataset_val})\n",
    "\n",
    "# rename index and labels column\n",
    "dataset = dataset.rename_columns({'__index_level_0__': 'idx', 'target': 'labels'})"
   ]
  },
  {
   "cell_type": "code",
   "execution_count": 6,
   "metadata": {},
   "outputs": [
    {
     "name": "stdout",
     "output_type": "stream",
     "text": [
      "Checkpoint: distilroberta-base\n"
     ]
    },
    {
     "data": {
      "application/vnd.jupyter.widget-view+json": {
       "model_id": "50fbec4cd33b495091bd8df1e6e001f8",
       "version_major": 2,
       "version_minor": 0
      },
      "text/plain": [
       "  0%|          | 0/7 [00:00<?, ?ba/s]"
      ]
     },
     "metadata": {},
     "output_type": "display_data"
    },
    {
     "data": {
      "application/vnd.jupyter.widget-view+json": {
       "model_id": "12828bd9299d4053a5211ab634c5e014",
       "version_major": 2,
       "version_minor": 0
      },
      "text/plain": [
       "  0%|          | 0/2 [00:00<?, ?ba/s]"
      ]
     },
     "metadata": {},
     "output_type": "display_data"
    }
   ],
   "source": [
    "checkpoint = 'distilroberta-base'\n",
    "\n",
    "# load pretrained tokenizer (checkpoint must match with model)\n",
    "print(f\"Checkpoint: {checkpoint}\")\n",
    "tokenizer = AutoTokenizer.from_pretrained(checkpoint)\n",
    "\n",
    "def tokenize_function(examples):\n",
    "     # no padding, handled by data collator in dynamic fashion\n",
    "     return tokenizer(examples[\"text\"], truncation=True)\n",
    "\n",
    "# tokenize data\n",
    "tokenized_dataset = dataset.map(tokenize_function, batched=True)\n",
    "\n",
    "# data collator to deal with dynamic padding\n",
    "data_collator = DataCollatorWithPadding(tokenizer)"
   ]
  },
  {
   "cell_type": "code",
   "execution_count": 7,
   "metadata": {},
   "outputs": [
    {
     "name": "stderr",
     "output_type": "stream",
     "text": [
      "Some weights of the model checkpoint at distilroberta-base were not used when initializing RobertaForSequenceClassification: ['lm_head.decoder.weight', 'roberta.pooler.dense.bias', 'lm_head.layer_norm.bias', 'lm_head.dense.weight', 'lm_head.bias', 'lm_head.layer_norm.weight', 'roberta.pooler.dense.weight', 'lm_head.dense.bias']\n",
      "- This IS expected if you are initializing RobertaForSequenceClassification from the checkpoint of a model trained on another task or with another architecture (e.g. initializing a BertForSequenceClassification model from a BertForPreTraining model).\n",
      "- This IS NOT expected if you are initializing RobertaForSequenceClassification from the checkpoint of a model that you expect to be exactly identical (initializing a BertForSequenceClassification model from a BertForSequenceClassification model).\n",
      "Some weights of RobertaForSequenceClassification were not initialized from the model checkpoint at distilroberta-base and are newly initialized: ['classifier.out_proj.bias', 'classifier.dense.weight', 'classifier.dense.bias', 'classifier.out_proj.weight']\n",
      "You should probably TRAIN this model on a down-stream task to be able to use it for predictions and inference.\n"
     ]
    }
   ],
   "source": [
    "# set seed for reproducability\n",
    "set_seed(random_seed)\n",
    "\n",
    "model = AutoModelForSequenceClassification.from_pretrained(\n",
    "    checkpoint, \n",
    "    num_labels=2, \n",
    "    problem_type='single_label_classification'\n",
    "    )\n",
    "\n",
    "# hyperparams \n",
    "training_args = TrainingArguments(\n",
    "    output_dir=\"disaster_model_1\",\n",
    "    evaluation_strategy=\"epoch\",\n",
    "    logging_strategy=\"epoch\",\n",
    "    save_strategy=\"epoch\",\n",
    "    num_train_epochs=6,\n",
    "    #learning_rate=5e-6, # set to 5e-6 for roberta-large to avoid local optimum\n",
    "    load_best_model_at_end=True,\n",
    "    metric_for_best_model='precision',\n",
    "    seed=random_seed\n",
    "    )\n",
    "\n",
    "# adding more metrics to the trainer\n",
    "metrics = {}\n",
    "for metric in ['accuracy','precision', 'recall']:\n",
    "    metrics[metric] = load_metric(metric,'mrpc')\n",
    "\n",
    "def compute_metrics(eval_pred):\n",
    "    metric1 = load_metric(\"precision\")\n",
    "    metric2 = load_metric(\"recall\")\n",
    "    metric3 = load_metric(\"accuracy\")\n",
    "    \n",
    "    logits, labels = eval_pred\n",
    "    predictions = np.argmax(logits, axis=-1)\n",
    "    precision = metric1.compute(predictions=predictions, references=labels)[\"precision\"]\n",
    "    recall = metric2.compute(predictions=predictions, references=labels)[\"recall\"]\n",
    "    accuracy = metric3.compute(predictions=predictions, references=labels)[\"accuracy\"]\n",
    "    return {\"accuracy\": accuracy, \"precision\": precision, \"recall\": recall}\n",
    "\n",
    "# define a trainer \n",
    "trainer = Trainer(\n",
    "    model=model,\n",
    "    args=training_args,\n",
    "    train_dataset=tokenized_dataset[\"train\"],\n",
    "    eval_dataset=tokenized_dataset[\"val\"],\n",
    "    tokenizer=tokenizer,\n",
    "    data_collator=data_collator,\n",
    "    compute_metrics = compute_metrics,\n",
    ")"
   ]
  },
  {
   "cell_type": "code",
   "execution_count": 8,
   "metadata": {},
   "outputs": [
    {
     "data": {
      "text/plain": [
       "True"
      ]
     },
     "execution_count": 8,
     "metadata": {},
     "output_type": "execute_result"
    }
   ],
   "source": [
    "torch.cuda.is_available()"
   ]
  },
  {
   "cell_type": "code",
   "execution_count": 9,
   "metadata": {},
   "outputs": [
    {
     "name": "stderr",
     "output_type": "stream",
     "text": [
      "The following columns in the training set  don't have a corresponding argument in `RobertaForSequenceClassification.forward` and have been ignored: keyword, idx, location, text, id. If keyword, idx, location, text, id are not expected by `RobertaForSequenceClassification.forward`,  you can safely ignore this message.\n",
      "/home/ec2-user/.conda/envs/junk-filter-env/lib/python3.8/site-packages/transformers/optimization.py:306: FutureWarning: This implementation of AdamW is deprecated and will be removed in a future version. Use the PyTorch implementation torch.optim.AdamW instead, or set `no_deprecation_warning=True` to disable this warning\n",
      "  warnings.warn(\n",
      "***** Running training *****\n",
      "  Num examples = 6090\n",
      "  Num Epochs = 6\n",
      "  Instantaneous batch size per device = 8\n",
      "  Total train batch size (w. parallel, distributed & accumulation) = 8\n",
      "  Gradient Accumulation steps = 1\n",
      "  Total optimization steps = 4572\n"
     ]
    },
    {
     "data": {
      "text/html": [
       "\n",
       "    <div>\n",
       "      \n",
       "      <progress value='4572' max='4572' style='width:300px; height:20px; vertical-align: middle;'></progress>\n",
       "      [4572/4572 05:57, Epoch 6/6]\n",
       "    </div>\n",
       "    <table border=\"1\" class=\"dataframe\">\n",
       "  <thead>\n",
       " <tr style=\"text-align: left;\">\n",
       "      <th>Epoch</th>\n",
       "      <th>Training Loss</th>\n",
       "      <th>Validation Loss</th>\n",
       "      <th>Accuracy</th>\n",
       "      <th>Precision</th>\n",
       "      <th>Recall</th>\n",
       "    </tr>\n",
       "  </thead>\n",
       "  <tbody>\n",
       "    <tr>\n",
       "      <td>1</td>\n",
       "      <td>0.495500</td>\n",
       "      <td>0.441123</td>\n",
       "      <td>0.826658</td>\n",
       "      <td>0.846975</td>\n",
       "      <td>0.727829</td>\n",
       "    </tr>\n",
       "    <tr>\n",
       "      <td>2</td>\n",
       "      <td>0.388800</td>\n",
       "      <td>0.543196</td>\n",
       "      <td>0.828628</td>\n",
       "      <td>0.838210</td>\n",
       "      <td>0.744648</td>\n",
       "    </tr>\n",
       "    <tr>\n",
       "      <td>3</td>\n",
       "      <td>0.326600</td>\n",
       "      <td>0.552348</td>\n",
       "      <td>0.826001</td>\n",
       "      <td>0.876209</td>\n",
       "      <td>0.692661</td>\n",
       "    </tr>\n",
       "    <tr>\n",
       "      <td>4</td>\n",
       "      <td>0.248000</td>\n",
       "      <td>0.795829</td>\n",
       "      <td>0.819435</td>\n",
       "      <td>0.812191</td>\n",
       "      <td>0.753823</td>\n",
       "    </tr>\n",
       "    <tr>\n",
       "      <td>5</td>\n",
       "      <td>0.192200</td>\n",
       "      <td>0.880374</td>\n",
       "      <td>0.816809</td>\n",
       "      <td>0.807882</td>\n",
       "      <td>0.752294</td>\n",
       "    </tr>\n",
       "    <tr>\n",
       "      <td>6</td>\n",
       "      <td>0.148900</td>\n",
       "      <td>0.971690</td>\n",
       "      <td>0.806960</td>\n",
       "      <td>0.781250</td>\n",
       "      <td>0.764526</td>\n",
       "    </tr>\n",
       "  </tbody>\n",
       "</table><p>"
      ],
      "text/plain": [
       "<IPython.core.display.HTML object>"
      ]
     },
     "metadata": {},
     "output_type": "display_data"
    },
    {
     "name": "stderr",
     "output_type": "stream",
     "text": [
      "The following columns in the evaluation set  don't have a corresponding argument in `RobertaForSequenceClassification.forward` and have been ignored: keyword, idx, location, text, id. If keyword, idx, location, text, id are not expected by `RobertaForSequenceClassification.forward`,  you can safely ignore this message.\n",
      "***** Running Evaluation *****\n",
      "  Num examples = 1523\n",
      "  Batch size = 8\n",
      "Saving model checkpoint to junk_filter_model_1/checkpoint-762\n",
      "Configuration saved in junk_filter_model_1/checkpoint-762/config.json\n",
      "Model weights saved in junk_filter_model_1/checkpoint-762/pytorch_model.bin\n",
      "tokenizer config file saved in junk_filter_model_1/checkpoint-762/tokenizer_config.json\n",
      "Special tokens file saved in junk_filter_model_1/checkpoint-762/special_tokens_map.json\n",
      "The following columns in the evaluation set  don't have a corresponding argument in `RobertaForSequenceClassification.forward` and have been ignored: keyword, idx, location, text, id. If keyword, idx, location, text, id are not expected by `RobertaForSequenceClassification.forward`,  you can safely ignore this message.\n",
      "***** Running Evaluation *****\n",
      "  Num examples = 1523\n",
      "  Batch size = 8\n",
      "Saving model checkpoint to junk_filter_model_1/checkpoint-1524\n",
      "Configuration saved in junk_filter_model_1/checkpoint-1524/config.json\n",
      "Model weights saved in junk_filter_model_1/checkpoint-1524/pytorch_model.bin\n",
      "tokenizer config file saved in junk_filter_model_1/checkpoint-1524/tokenizer_config.json\n",
      "Special tokens file saved in junk_filter_model_1/checkpoint-1524/special_tokens_map.json\n",
      "The following columns in the evaluation set  don't have a corresponding argument in `RobertaForSequenceClassification.forward` and have been ignored: keyword, idx, location, text, id. If keyword, idx, location, text, id are not expected by `RobertaForSequenceClassification.forward`,  you can safely ignore this message.\n",
      "***** Running Evaluation *****\n",
      "  Num examples = 1523\n",
      "  Batch size = 8\n",
      "Saving model checkpoint to junk_filter_model_1/checkpoint-2286\n",
      "Configuration saved in junk_filter_model_1/checkpoint-2286/config.json\n",
      "Model weights saved in junk_filter_model_1/checkpoint-2286/pytorch_model.bin\n",
      "tokenizer config file saved in junk_filter_model_1/checkpoint-2286/tokenizer_config.json\n",
      "Special tokens file saved in junk_filter_model_1/checkpoint-2286/special_tokens_map.json\n",
      "The following columns in the evaluation set  don't have a corresponding argument in `RobertaForSequenceClassification.forward` and have been ignored: keyword, idx, location, text, id. If keyword, idx, location, text, id are not expected by `RobertaForSequenceClassification.forward`,  you can safely ignore this message.\n",
      "***** Running Evaluation *****\n",
      "  Num examples = 1523\n",
      "  Batch size = 8\n",
      "Saving model checkpoint to junk_filter_model_1/checkpoint-3048\n",
      "Configuration saved in junk_filter_model_1/checkpoint-3048/config.json\n",
      "Model weights saved in junk_filter_model_1/checkpoint-3048/pytorch_model.bin\n",
      "tokenizer config file saved in junk_filter_model_1/checkpoint-3048/tokenizer_config.json\n",
      "Special tokens file saved in junk_filter_model_1/checkpoint-3048/special_tokens_map.json\n",
      "The following columns in the evaluation set  don't have a corresponding argument in `RobertaForSequenceClassification.forward` and have been ignored: keyword, idx, location, text, id. If keyword, idx, location, text, id are not expected by `RobertaForSequenceClassification.forward`,  you can safely ignore this message.\n",
      "***** Running Evaluation *****\n",
      "  Num examples = 1523\n",
      "  Batch size = 8\n",
      "Saving model checkpoint to junk_filter_model_1/checkpoint-3810\n",
      "Configuration saved in junk_filter_model_1/checkpoint-3810/config.json\n",
      "Model weights saved in junk_filter_model_1/checkpoint-3810/pytorch_model.bin\n",
      "tokenizer config file saved in junk_filter_model_1/checkpoint-3810/tokenizer_config.json\n",
      "Special tokens file saved in junk_filter_model_1/checkpoint-3810/special_tokens_map.json\n",
      "The following columns in the evaluation set  don't have a corresponding argument in `RobertaForSequenceClassification.forward` and have been ignored: keyword, idx, location, text, id. If keyword, idx, location, text, id are not expected by `RobertaForSequenceClassification.forward`,  you can safely ignore this message.\n",
      "***** Running Evaluation *****\n",
      "  Num examples = 1523\n",
      "  Batch size = 8\n",
      "Saving model checkpoint to junk_filter_model_1/checkpoint-4572\n",
      "Configuration saved in junk_filter_model_1/checkpoint-4572/config.json\n",
      "Model weights saved in junk_filter_model_1/checkpoint-4572/pytorch_model.bin\n",
      "tokenizer config file saved in junk_filter_model_1/checkpoint-4572/tokenizer_config.json\n",
      "Special tokens file saved in junk_filter_model_1/checkpoint-4572/special_tokens_map.json\n",
      "\n",
      "\n",
      "Training completed. Do not forget to share your model on huggingface.co/models =)\n",
      "\n",
      "\n",
      "Loading best model from junk_filter_model_1/checkpoint-2286 (score: 0.8762088974854932).\n"
     ]
    }
   ],
   "source": [
    "# launch trainer\n",
    "train_result = trainer.train()"
   ]
  },
  {
   "cell_type": "markdown",
   "metadata": {},
   "source": [
    "## Inference"
   ]
  },
  {
   "cell_type": "code",
   "execution_count": 10,
   "metadata": {},
   "outputs": [],
   "source": [
    "import numpy as np\n",
    "import pandas as pd\n",
    "import torch\n",
    "from torch.utils.data import DataLoader\n",
    "from datasets import Dataset, DatasetDict\n",
    "\n",
    "\n",
    "# Prediction based on probability threshold\n",
    "def get_predictions_from_model_with_threshold(y_pred_logit, threshold):\n",
    "    \"\"\"\n",
    "    Takes probabilities as logits in a list and returns \n",
    "    a list with ones and zeroes based on threshold\n",
    "\n",
    "    Parameters\n",
    "    ----------\n",
    "    y_pred_logit : logit\n",
    "        List of logits.\n",
    "    threshold : double\n",
    "        threshold for prediction.\n",
    "\n",
    "    Returns\n",
    "    -------\n",
    "    list\n",
    "        List of ones and zeroes.\n",
    "    \"\"\"\n",
    "\n",
    "    # Get predictions as probabilities\n",
    "    y_pred_prob_tensor = torch.nn.functional.softmax(torch.tensor(y_pred_logit), dim=-1)\n",
    "    y_pred_prob_np = y_pred_prob_tensor.cpu().detach().numpy()\n",
    "    probabilities = np.transpose(y_pred_prob_np)[1]\n",
    "\n",
    "    f = lambda x: 1 if (x > threshold) else 0\n",
    "    return [f(x) for x in probabilities]\n",
    "\n",
    "def history_to_df(hist): \n",
    "    \"\"\"\n",
    "    Takes a copy of training history and returns a \n",
    "    dataframe containing the metrics for all epochs.\n",
    "\n",
    "    Parameters\n",
    "    ----------\n",
    "    hist : list of dict\n",
    "        Training history.\n",
    "    \n",
    "    Returns\n",
    "    -------\n",
    "    pd.DataFrame\n",
    "        Dataframe containing metrics for all epochs.\n",
    "    \"\"\"\n",
    "\n",
    "    # Removing last row in history since it contains other data\n",
    "    last_row = hist.pop()\n",
    "\n",
    "    loss = []\n",
    "    eval_loss = []\n",
    "    epoch = []\n",
    "    accuracy = []\n",
    "    eval_precision = []\n",
    "    eval_recall = []\n",
    "\n",
    "    for i, dict in enumerate(hist):\n",
    "        if (i%2==1):\n",
    "            eval_loss.append(dict['eval_loss'])\n",
    "            epoch.append(dict['epoch'])\n",
    "            accuracy.append(dict['eval_accuracy'])\n",
    "            eval_precision.append(dict['eval_precision'])\n",
    "            eval_recall.append(dict['eval_recall'])\n",
    "        else:\n",
    "            loss.append(dict['loss'])\n",
    "\n",
    "    dct = {'epoch': epoch, 'loss': loss, 'eval_loss': eval_loss, 'accuracy': accuracy, 'precision': eval_precision,'recall':eval_recall}\n",
    "\n",
    "    return pd.DataFrame(dct)\n"
   ]
  },
  {
   "cell_type": "code",
   "execution_count": 11,
   "metadata": {},
   "outputs": [
    {
     "name": "stdout",
     "output_type": "stream",
     "text": [
      "Highest precision at: 0.8762 at epoch 2\n"
     ]
    },
    {
     "data": {
      "text/html": [
       "<div>\n",
       "<style scoped>\n",
       "    .dataframe tbody tr th:only-of-type {\n",
       "        vertical-align: middle;\n",
       "    }\n",
       "\n",
       "    .dataframe tbody tr th {\n",
       "        vertical-align: top;\n",
       "    }\n",
       "\n",
       "    .dataframe thead th {\n",
       "        text-align: right;\n",
       "    }\n",
       "</style>\n",
       "<table border=\"1\" class=\"dataframe\">\n",
       "  <thead>\n",
       "    <tr style=\"text-align: right;\">\n",
       "      <th></th>\n",
       "      <th>epoch</th>\n",
       "      <th>loss</th>\n",
       "      <th>eval_loss</th>\n",
       "      <th>accuracy</th>\n",
       "      <th>precision</th>\n",
       "      <th>recall</th>\n",
       "    </tr>\n",
       "  </thead>\n",
       "  <tbody>\n",
       "    <tr>\n",
       "      <th>0</th>\n",
       "      <td>1.0</td>\n",
       "      <td>0.4955</td>\n",
       "      <td>0.441123</td>\n",
       "      <td>0.826658</td>\n",
       "      <td>0.846975</td>\n",
       "      <td>0.727829</td>\n",
       "    </tr>\n",
       "    <tr>\n",
       "      <th>1</th>\n",
       "      <td>2.0</td>\n",
       "      <td>0.3888</td>\n",
       "      <td>0.543196</td>\n",
       "      <td>0.828628</td>\n",
       "      <td>0.838210</td>\n",
       "      <td>0.744648</td>\n",
       "    </tr>\n",
       "    <tr>\n",
       "      <th>2</th>\n",
       "      <td>3.0</td>\n",
       "      <td>0.3266</td>\n",
       "      <td>0.552348</td>\n",
       "      <td>0.826001</td>\n",
       "      <td>0.876209</td>\n",
       "      <td>0.692661</td>\n",
       "    </tr>\n",
       "    <tr>\n",
       "      <th>3</th>\n",
       "      <td>4.0</td>\n",
       "      <td>0.2480</td>\n",
       "      <td>0.795829</td>\n",
       "      <td>0.819435</td>\n",
       "      <td>0.812191</td>\n",
       "      <td>0.753823</td>\n",
       "    </tr>\n",
       "    <tr>\n",
       "      <th>4</th>\n",
       "      <td>5.0</td>\n",
       "      <td>0.1922</td>\n",
       "      <td>0.880374</td>\n",
       "      <td>0.816809</td>\n",
       "      <td>0.807882</td>\n",
       "      <td>0.752294</td>\n",
       "    </tr>\n",
       "    <tr>\n",
       "      <th>5</th>\n",
       "      <td>6.0</td>\n",
       "      <td>0.1489</td>\n",
       "      <td>0.971690</td>\n",
       "      <td>0.806960</td>\n",
       "      <td>0.781250</td>\n",
       "      <td>0.764526</td>\n",
       "    </tr>\n",
       "  </tbody>\n",
       "</table>\n",
       "</div>"
      ],
      "text/plain": [
       "   epoch    loss  eval_loss  accuracy  precision    recall\n",
       "0    1.0  0.4955   0.441123  0.826658   0.846975  0.727829\n",
       "1    2.0  0.3888   0.543196  0.828628   0.838210  0.744648\n",
       "2    3.0  0.3266   0.552348  0.826001   0.876209  0.692661\n",
       "3    4.0  0.2480   0.795829  0.819435   0.812191  0.753823\n",
       "4    5.0  0.1922   0.880374  0.816809   0.807882  0.752294\n",
       "5    6.0  0.1489   0.971690  0.806960   0.781250  0.764526"
      ]
     },
     "execution_count": 11,
     "metadata": {},
     "output_type": "execute_result"
    }
   ],
   "source": [
    "#Retrieving history\n",
    "history = trainer.state.log_history.copy()\n",
    "\n",
    "df_history = history_to_df(history)\n",
    "\n",
    "#Printing lowest evaluation loss\n",
    "print(f\"Highest precision at: {df_history['precision'].max():.4f} at epoch {np.argmax(df_history['precision'])}\")\n",
    "df_history"
   ]
  },
  {
   "cell_type": "code",
   "execution_count": 12,
   "metadata": {},
   "outputs": [
    {
     "data": {
      "image/png": "[encoded data removed]",
      "text/plain": [
       "<Figure size 1440x504 with 2 Axes>"
      ]
     },
     "metadata": {},
     "output_type": "display_data"
    }
   ],
   "source": [
    "# visualization of training history\n",
    "sns.set_theme(style=\"darkgrid\")\n",
    "\n",
    "fig, axes = plt.subplots(1, 2, sharex=True, figsize=(20,7))\n",
    "fig.suptitle('Results')\n",
    "\n",
    "sns.lineplot(ax=axes[0], x=df_history['epoch'], y=df_history['loss'], label='Training loss')\n",
    "sns.lineplot(ax=axes[0], x=df_history['epoch'], y=df_history['eval_loss'], label='Validation loss')\n",
    "axes[0].set_title('Training and Validation loss')\n",
    "\n",
    "\n",
    "sns.lineplot(ax=axes[1], x=df_history['epoch'], y=df_history['accuracy'], label='Accuracy')\n",
    "sns.lineplot(ax=axes[1], x=df_history['epoch'], y=df_history['precision'], label='Precision')\n",
    "sns.lineplot(ax=axes[1], x=df_history['epoch'], y=df_history['recall'], label='Recall')\n",
    "axes[1].set_title('Accuracy, Precision and Recall');"
   ]
  },
  {
   "cell_type": "code",
   "execution_count": 13,
   "metadata": {},
   "outputs": [
    {
     "name": "stderr",
     "output_type": "stream",
     "text": [
      "The following columns in the test set  don't have a corresponding argument in `RobertaForSequenceClassification.forward` and have been ignored: keyword, idx, location, text, id. If keyword, idx, location, text, id are not expected by `RobertaForSequenceClassification.forward`,  you can safely ignore this message.\n",
      "***** Running Prediction *****\n",
      "  Num examples = 1523\n",
      "  Batch size = 8\n"
     ]
    },
    {
     "data": {
      "text/html": [
       "\n",
       "    <div>\n",
       "      \n",
       "      <progress value='1415' max='191' style='width:300px; height:20px; vertical-align: middle;'></progress>\n",
       "      [191/191 06:14]\n",
       "    </div>\n",
       "    "
      ],
      "text/plain": [
       "<IPython.core.display.HTML object>"
      ]
     },
     "metadata": {},
     "output_type": "display_data"
    }
   ],
   "source": [
    "# make predictions on validation data\n",
    "y_pred_logit,_, _ = trainer.predict(test_dataset = tokenized_dataset['val'])"
   ]
  },
  {
   "cell_type": "code",
   "execution_count": 14,
   "metadata": {},
   "outputs": [
    {
     "name": "stdout",
     "output_type": "stream",
     "text": [
      "Majority baseline (accuracy): 0.5706\n"
     ]
    }
   ],
   "source": [
    "# majority baseline in accuracy (to assure some learning is done)\n",
    "y_true = tokenized_dataset['val']['labels']\n",
    "label_counts = np.unique(y_true, return_counts=True)[1]\n",
    "majority_baseline = np.max(label_counts) / np.sum(label_counts)\n",
    "print(f\"Majority baseline (accuracy): {majority_baseline:.4f}\")"
   ]
  },
  {
   "cell_type": "code",
   "execution_count": 15,
   "metadata": {},
   "outputs": [
    {
     "name": "stdout",
     "output_type": "stream",
     "text": [
      "PROBABILITY THRESHOLD: 0.5\n",
      "Accuracy score: 0.8260013131976363\n",
      "Precision score: 0.8762088974854932\n",
      "Recall score: 0.6926605504587156\n",
      "\n",
      "PROBABILITY THRESHOLD: 0.9\n",
      "Accuracy score: 0.8181221273801708\n",
      "Precision score: 0.8918918918918919\n",
      "Recall score: 0.6559633027522935\n",
      "\n"
     ]
    }
   ],
   "source": [
    "y_true = tokenized_dataset['val']['labels']\n",
    "\n",
    "# predictions with 0.5 probability threshold\n",
    "y_pred_05 = get_predictions_from_model_with_threshold(y_pred_logit, 0.5)\n",
    "\n",
    "print(f'PROBABILITY THRESHOLD: 0.5')\n",
    "print(f'Accuracy score: {accuracy_score(y_true, y_pred=y_pred_05)}')\n",
    "print(f'Precision score: {precision_score(y_true, y_pred=y_pred_05)}')\n",
    "print(f'Recall score: {recall_score(y_true, y_pred=y_pred_05)}\\n')\n",
    "\n",
    "# predictions with 0.9 probability threshold\n",
    "y_pred_09 = get_predictions_from_model_with_threshold(y_pred_logit, 0.9)\n",
    "\n",
    "print(f'PROBABILITY THRESHOLD: 0.9')\n",
    "print(f'Accuracy score: {accuracy_score(y_true, y_pred=y_pred_09)}')\n",
    "print(f'Precision score: {precision_score(y_true, y_pred=y_pred_09)}')\n",
    "print(f'Recall score: {recall_score(y_true, y_pred=y_pred_09)}\\n')"
   ]
  },
  {
   "cell_type": "markdown",
   "metadata": {},
   "source": [
    "# Inference on test set"
   ]
  },
  {
   "cell_type": "code",
   "execution_count": 22,
   "metadata": {},
   "outputs": [
    {
     "data": {
      "text/plain": [
       "DatasetDict({\n",
       "    test: Dataset({\n",
       "        features: ['id', 'text'],\n",
       "        num_rows: 3263\n",
       "    })\n",
       "})"
      ]
     },
     "execution_count": 22,
     "metadata": {},
     "output_type": "execute_result"
    }
   ],
   "source": [
    "# convert dataframes to HuggingFace dataset dictionary\n",
    "dataset_test = DatasetDict({'test': Dataset.from_pandas(df_test[['id','text']])})\n",
    "dataset_test"
   ]
  },
  {
   "cell_type": "code",
   "execution_count": 23,
   "metadata": {},
   "outputs": [
    {
     "data": {
      "application/vnd.jupyter.widget-view+json": {
       "model_id": "68ad63d83cf24d58a7905710fe85c17c",
       "version_major": 2,
       "version_minor": 0
      },
      "text/plain": [
       "  0%|          | 0/4 [00:00<?, ?ba/s]"
      ]
     },
     "metadata": {},
     "output_type": "display_data"
    }
   ],
   "source": [
    "tokenized_test_dataset = dataset_test.map(tokenize_function, batched=True)"
   ]
  },
  {
   "cell_type": "code",
   "execution_count": 24,
   "metadata": {},
   "outputs": [
    {
     "name": "stderr",
     "output_type": "stream",
     "text": [
      "The following columns in the test set  don't have a corresponding argument in `RobertaForSequenceClassification.forward` and have been ignored: id, text. If id, text are not expected by `RobertaForSequenceClassification.forward`,  you can safely ignore this message.\n",
      "***** Running Prediction *****\n",
      "  Num examples = 3263\n",
      "  Batch size = 8\n"
     ]
    }
   ],
   "source": [
    "y_pred_logit,_, _ = trainer.predict(test_dataset = tokenized_test_dataset['test'])\n",
    "y_pred = get_predictions_from_model_with_threshold(y_pred_logit, 0.5)"
   ]
  },
  {
   "cell_type": "code",
   "execution_count": 30,
   "metadata": {},
   "outputs": [
    {
     "data": {
      "text/plain": [
       "list"
      ]
     },
     "execution_count": 30,
     "metadata": {},
     "output_type": "execute_result"
    }
   ],
   "source": [
    "ids = dataset_test['test']['id']\n"
   ]
  },
  {
   "cell_type": "code",
   "execution_count": 31,
   "metadata": {},
   "outputs": [],
   "source": [
    "# make csv out two lists of ids and predictions\n",
    "with open('submission.csv', 'w') as f:\n",
    "    f.write('id,label\\n')\n",
    "    for id, pred in zip(ids, y_pred):\n",
    "        f.write(f'{id},{pred}\\n')"
   ]
  },
  {
   "cell_type": "code",
   "execution_count": null,
   "metadata": {},
   "outputs": [],
   "source": []
  }
 ],
 "metadata": {
  "interpreter": {
   "hash": "da41587354dc930691c0d8ae67f7d6a4bada397dd53b9da880c1a0e4e952ad76"
  },
  "kernelspec": {
   "display_name": "Python 3.8.13 ('junk-filter-env')",
   "language": "python",
   "name": "python3"
  },
  "language_info": {
   "codemirror_mode": {
    "name": "ipython",
    "version": 3
   },
   "file_extension": ".py",
   "mimetype": "text/x-python",
   "name": "python",
   "nbconvert_exporter": "python",
   "pygments_lexer": "ipython3",
   "version": "3.8.13"
  },
  "orig_nbformat": 4
 },
 "nbformat": 4,
 "nbformat_minor": 2
}
